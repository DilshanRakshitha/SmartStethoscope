{
 "cells": [
  {
   "cell_type": "code",
   "execution_count": 1,
   "metadata": {},
   "outputs": [
    {
     "name": "stdout",
     "output_type": "stream",
     "text": [
      "2.6.0\n"
     ]
    }
   ],
   "source": [
    "import tensorflow as tf\n",
    "\n",
    "# import tensorflow_io as tfio\n",
    "\n",
    "import os\n",
    "import pathlib\n",
    "\n",
    "import matplotlib.pyplot as plt\n",
    "import numpy as np\n",
    "import pandas as pd \n",
    "import seaborn as sns\n",
    "import tensorflow as tf\n",
    "\n",
    "from tensorflow.keras.models import Sequential\n",
    "from tensorflow.keras.layers import Dense, Dropout, Conv2D, MaxPooling2D, GlobalAveragePooling2D\n",
    "from tensorflow.keras.utils import to_categorical\n",
    "from tensorflow.keras.callbacks import ModelCheckpoint\n",
    "from IPython import display\n",
    "\n",
    "print(tf. __version__)\n",
    "import seaborn as sns\n",
    "import librosa.display\n",
    "\n",
    "import soundfile\n",
    "import statistics\n",
    "import librosa as lb\n",
    "# print(tfio. __version__)\n",
    "import shutil\n",
    "import random\n",
    "from sklearn.model_selection import train_test_split\n",
    "\n",
    "from sklearn.metrics import confusion_matrix, classification_report, roc_curve, auc\n",
    "from sklearn.preprocessing import LabelEncoder\n",
    "\n",
    "from datetime import datetime\n"
   ]
  },
  {
   "cell_type": "code",
   "execution_count": 2,
   "metadata": {},
   "outputs": [],
   "source": [
    "dataSetPath = '../processed_audio_files_nn/'\n",
    "#dataSetPath = 'processed_audio_files/'\n",
    "disease_labels = [\"Asthma\",\"COPD\",\"Bronchiectasis\",\"Pneumonia\",\"URTI\",\"Healthy\",\"Bronchiolitis\",\"LRTI\"]\n",
    "target_conditions = [\"COPD\",\"Healthy\"]"
   ]
  },
  {
   "cell_type": "code",
   "execution_count": 3,
   "metadata": {},
   "outputs": [],
   "source": [
    "def getFilenameInfo(file):\n",
    "    return file.split('_')"
   ]
  },
  {
   "cell_type": "markdown",
   "metadata": {},
   "source": [
    "Following loop will run through the dataset path and and analyse it\n"
   ]
  },
  {
   "cell_type": "code",
   "execution_count": 4,
   "metadata": {},
   "outputs": [],
   "source": [
    "def plotDataSet(dataSetPath , disease_labels):\n",
    "  '''plots the data-set's ingredients, and returns a dictionary with the results'''\n",
    "  audio_data_dir = dataSetPath + \"*.wav\"\n",
    "  filenames = os.listdir(dataSetPath)\n",
    "  dataCountList = [0 for i in range(len(disease_labels))]\n",
    "  for filename in filenames:\n",
    "    dataCountList[disease_labels.index(getFilenameInfo(filename)[0])] += 1\n",
    "\n",
    "  # print(dataCountList,dataCountList)\n",
    "\n",
    "  plt.bar(disease_labels,dataCountList)\n",
    "  plt.xticks(rotation=90)\n",
    "  dataSetInfo = {disease_labels[i] : dataCountList[i] for i in  range(len(dataCountList))}    #dictionary with data set consistancy\n",
    "  return dataSetInfo"
   ]
  },
  {
   "cell_type": "markdown",
   "metadata": {},
   "source": [
    "## Data set Visualization"
   ]
  },
  {
   "cell_type": "code",
   "execution_count": 5,
   "metadata": {},
   "outputs": [
    {
     "data": {
      "text/plain": [
       "{'Asthma': 6,\n",
       " 'COPD': 5746,\n",
       " 'Bronchiectasis': 104,\n",
       " 'Pneumonia': 285,\n",
       " 'URTI': 243,\n",
       " 'Healthy': 322,\n",
       " 'Bronchiolitis': 160,\n",
       " 'LRTI': 32}"
      ]
     },
     "execution_count": 5,
     "metadata": {},
     "output_type": "execute_result"
    },
    {
     "data": {
      "image/png": "[encoded data removed]",
      "text/plain": [
       "<Figure size 432x288 with 1 Axes>"
      ]
     },
     "metadata": {
      "needs_background": "light"
     },
     "output_type": "display_data"
    }
   ],
   "source": [
    "plotDataSet(dataSetPath , disease_labels)"
   ]
  },
  {
   "cell_type": "markdown",
   "metadata": {},
   "source": [
    "## Data pre-process\n",
    "\n",
    "copy the required files to a specific location\n"
   ]
  },
  {
   "cell_type": "code",
   "execution_count": 6,
   "metadata": {},
   "outputs": [],
   "source": [
    "def copy_targetConditions(targets = [], destination = 'target_conditions/',source = 'balanced_dataset/'):\n",
    "    '''copy the files with names in target conditions list to the destination location'''\n",
    "    files = os.listdir(source)\n",
    "    if not os.path.exists(destination):\n",
    "        os.makedirs(destination)\n",
    "    for file in files:\n",
    "        if (getFilenameInfo(file)[0] in targets):\n",
    "            # print(getFilenameInfo(file)[0])\n",
    "            shutil.copy(source + file , destination)\n",
    "            \n"
   ]
  },
  {
   "cell_type": "code",
   "execution_count": 7,
   "metadata": {},
   "outputs": [],
   "source": [
    " #copy_targetConditions(targets = target_conditions, destination = 'target_conditions/',source = 'balanced_dataset/')"
   ]
  },
  {
   "cell_type": "code",
   "execution_count": 8,
   "metadata": {},
   "outputs": [
    {
     "data": {
      "text/plain": [
       "{'COPD': 792, 'Healthy': 770}"
      ]
     },
     "execution_count": 8,
     "metadata": {},
     "output_type": "execute_result"
    },
    {
     "data": {
      "image/png": "[encoded data removed]",
      "text/plain": [
       "<Figure size 432x288 with 1 Axes>"
      ]
     },
     "metadata": {
      "needs_background": "light"
     },
     "output_type": "display_data"
    }
   ],
   "source": [
    "plotDataSet('../target_conditions/' , target_conditions)"
   ]
  },
  {
   "cell_type": "code",
   "execution_count": 9,
   "metadata": {},
   "outputs": [],
   "source": [
    "max_pad_len = 862 # to make the length of all MFCC equal\n",
    "\n",
    "def extract_features(file_name):\n",
    "    \"\"\"\n",
    "    This function takes in the path for an audio file as a string, loads it, and returns the MFCC\n",
    "    of the audio\"\"\"\n",
    "   \n",
    "    try:\n",
    "        audio, sample_rate = librosa.load(file_name, res_type='kaiser_fast', duration=20) \n",
    "        mfccs = librosa.feature.mfcc(y=audio, sr=sample_rate, n_mfcc=40)\n",
    "        pad_width = max_pad_len - mfccs.shape[1]\n",
    "        mfccs = np.pad(mfccs, pad_width=((0, 0), (0, pad_width)), mode='constant')\n",
    "        \n",
    "    except Exception as e:\n",
    "        print(\"Error encountered while parsing file: \", file_name)\n",
    "        return None \n",
    "     \n",
    "    return mfccs"
   ]
  },
  {
   "cell_type": "markdown",
   "metadata": {},
   "source": [
    "load data"
   ]
  },
  {
   "cell_type": "code",
   "execution_count": 10,
   "metadata": {},
   "outputs": [],
   "source": [
    "dataSetPath = '../target_conditions/'\n",
    "\n",
    "files = os.listdir(dataSetPath)\n",
    "# shuffle the data\n",
    "random.shuffle(files)\n",
    "\n",
    "labels = np.array([getFilenameInfo(file)[0] for file in files])\n",
    "# print (str(labels[:10]) + 'files : ' + str(files[:10]))\n",
    "\n",
    "# print(files)"
   ]
  },
  {
   "cell_type": "markdown",
   "metadata": {},
   "source": [
    "## Feature Extraction"
   ]
  },
  {
   "cell_type": "code",
   "execution_count": 11,
   "metadata": {},
   "outputs": [
    {
     "name": "stdout",
     "output_type": "stream",
     "text": [
      "feature extraction finished with :  1562 features.\n"
     ]
    }
   ],
   "source": [
    "features = []\n",
    "\n",
    "for file in files:\n",
    "    features.append(extract_features(dataSetPath+file))\n",
    "\n",
    "features = np.array(features,dtype=float )\n",
    "print('feature extraction finished with : ' , len(features) , \"features.\")\n",
    "\n"
   ]
  },
  {
   "cell_type": "code",
   "execution_count": 12,
   "metadata": {},
   "outputs": [
    {
     "data": {
      "image/png": "[encoded data removed]",
      "text/plain": [
       "<Figure size 720x288 with 2 Axes>"
      ]
     },
     "metadata": {
      "needs_background": "light"
     },
     "output_type": "display_data"
    }
   ],
   "source": [
    "plt.figure(figsize=(10, 4))\n",
    "librosa.display.specshow(features[0], x_axis='time')\n",
    "plt.colorbar()\n",
    "plt.title('MFCC')\n",
    "plt.tight_layout()\n",
    "plt.show()"
   ]
  },
  {
   "cell_type": "markdown",
   "metadata": {},
   "source": [
    "## Encode and Split"
   ]
  },
  {
   "cell_type": "code",
   "execution_count": 13,
   "metadata": {},
   "outputs": [
    {
     "name": "stdout",
     "output_type": "stream",
     "text": [
      "313\n"
     ]
    }
   ],
   "source": [
    "le = LabelEncoder()\n",
    "i_labels = le.fit_transform(labels)\n",
    "oneHotLabels = to_categorical(i_labels)\n",
    "# print(oneHotLabels[:10])\n",
    "\n",
    "features = np.reshape(features,(*features.shape,1))\n",
    "\n",
    "\n",
    "#split the data set\n",
    "\n",
    "x_train,x_test,y_train,y_test = train_test_split(features,oneHotLabels,stratify=oneHotLabels,test_size=0.3,random_state = 42)\n",
    "x_test,x_val,y_test,y_val = train_test_split(features,oneHotLabels,stratify=oneHotLabels,test_size=0.2,random_state = 42)\n",
    "\n",
    "\n",
    "tensor_x_test = tf.convert_to_tensor(x_test)\n",
    "print(len(x_val))\n"
   ]
  },
  {
   "cell_type": "markdown",
   "metadata": {},
   "source": [
    "## Model creation"
   ]
  },
  {
   "cell_type": "code",
   "execution_count": 14,
   "metadata": {},
   "outputs": [],
   "source": [
    "num_rows = 40\n",
    "num_columns = 862\n",
    "num_channels = 1\n",
    "\n",
    "num_labels = oneHotLabels.shape[1]\n",
    "filter_size = 2\n",
    "\n",
    "# Construct model \n",
    "model = Sequential()\n",
    "model.add(Conv2D(filters=16, kernel_size=filter_size,\n",
    "                 input_shape=(num_rows, num_columns, num_channels), activation='relu'))\n",
    "model.add(MaxPooling2D(pool_size=2))\n",
    "model.add(Dropout(0.2))\n",
    "\n",
    "model.add(Conv2D(filters=32, kernel_size=filter_size, activation='relu'))\n",
    "model.add(MaxPooling2D(pool_size=2))\n",
    "model.add(Dropout(0.2))\n",
    "\n",
    "model.add(Conv2D(filters=64, kernel_size=filter_size, activation='relu'))\n",
    "model.add(MaxPooling2D(pool_size=2))\n",
    "model.add(Dropout(0.2))\n",
    "\n",
    "model.add(Conv2D(filters=128, kernel_size=filter_size, activation='relu'))\n",
    "model.add(MaxPooling2D(pool_size=2))\n",
    "model.add(Dropout(0.2))\n",
    "\n",
    "model.add(GlobalAveragePooling2D())\n",
    "\n",
    "model.add(Dense(num_labels, activation='softmax')) "
   ]
  },
  {
   "cell_type": "code",
   "execution_count": 15,
   "metadata": {},
   "outputs": [],
   "source": [
    "# Compile the model\n",
    "model.compile(loss='categorical_crossentropy', metrics=['accuracy'], optimizer='adam') "
   ]
  },
  {
   "cell_type": "code",
   "execution_count": 16,
   "metadata": {},
   "outputs": [
    {
     "name": "stdout",
     "output_type": "stream",
     "text": [
      "Model: \"sequential\"\n",
      "_________________________________________________________________\n",
      "Layer (type)                 Output Shape              Param #   \n",
      "=================================================================\n",
      "conv2d (Conv2D)              (None, 39, 861, 16)       80        \n",
      "_________________________________________________________________\n",
      "max_pooling2d (MaxPooling2D) (None, 19, 430, 16)       0         \n",
      "_________________________________________________________________\n",
      "dropout (Dropout)            (None, 19, 430, 16)       0         \n",
      "_________________________________________________________________\n",
      "conv2d_1 (Conv2D)            (None, 18, 429, 32)       2080      \n",
      "_________________________________________________________________\n",
      "max_pooling2d_1 (MaxPooling2 (None, 9, 214, 32)        0         \n",
      "_________________________________________________________________\n",
      "dropout_1 (Dropout)          (None, 9, 214, 32)        0         \n",
      "_________________________________________________________________\n",
      "conv2d_2 (Conv2D)            (None, 8, 213, 64)        8256      \n",
      "_________________________________________________________________\n",
      "max_pooling2d_2 (MaxPooling2 (None, 4, 106, 64)        0         \n",
      "_________________________________________________________________\n",
      "dropout_2 (Dropout)          (None, 4, 106, 64)        0         \n",
      "_________________________________________________________________\n",
      "conv2d_3 (Conv2D)            (None, 3, 105, 128)       32896     \n",
      "_________________________________________________________________\n",
      "max_pooling2d_3 (MaxPooling2 (None, 1, 52, 128)        0         \n",
      "_________________________________________________________________\n",
      "dropout_3 (Dropout)          (None, 1, 52, 128)        0         \n",
      "_________________________________________________________________\n",
      "global_average_pooling2d (Gl (None, 128)               0         \n",
      "_________________________________________________________________\n",
      "dense (Dense)                (None, 2)                 258       \n",
      "=================================================================\n",
      "Total params: 43,570\n",
      "Trainable params: 43,570\n",
      "Non-trainable params: 0\n",
      "_________________________________________________________________\n",
      "<class 'numpy.ndarray'>\n",
      "40/40 [==============================] - 3s 23ms/step - loss: 2.1149 - accuracy: 0.5068\n",
      "Pre-training accuracy: 50.6805%\n"
     ]
    }
   ],
   "source": [
    "# Display model architecture summary \n",
    "model.summary()\n",
    "\n",
    "\n",
    "# Calculate pre-training accuracy \n",
    "print(type(x_test))\n",
    "tensor_y_test = tf.convert_to_tensor(y_test)\n",
    "\n",
    "\n",
    "score = model.evaluate(tensor_x_test, tensor_y_test, verbose=1)\n",
    "accuracy = 100*score[1]\n",
    "\n",
    "print(\"Pre-training accuracy: %.4f%%\" % accuracy)"
   ]
  },
  {
   "cell_type": "code",
   "execution_count": 17,
   "metadata": {},
   "outputs": [
    {
     "name": "stdout",
     "output_type": "stream",
     "text": [
      "This is a numpy array:\n",
      "[[1 2 3]\n",
      " [3 4 5]\n",
      " [5 6 7]] (3, 3) <class 'numpy.ndarray'>\n",
      "Converted numpy array into tensor:\n",
      "tf.Tensor(\n",
      "[[1 2 3]\n",
      " [3 4 5]\n",
      " [5 6 7]], shape=(3, 3), dtype=int32)\n"
     ]
    }
   ],
   "source": [
    "array = np.array([[1,2,3],[3,4,5],[5,6,7]])\n",
    "print(\"This is a numpy array:\")\n",
    "print(array, array.shape, type(array))\n",
    "tensor = tf.convert_to_tensor(array)\n",
    "print(\"Converted numpy array into tensor:\")\n",
    "print(tensor)"
   ]
  },
  {
   "cell_type": "markdown",
   "metadata": {},
   "source": [
    "## Model Training"
   ]
  },
  {
   "cell_type": "code",
   "execution_count": 18,
   "metadata": {},
   "outputs": [
    {
     "name": "stdout",
     "output_type": "stream",
     "text": [
      "Epoch 1/100\n",
      "9/9 [==============================] - 7s 500ms/step - loss: 6.5793 - accuracy: 0.5572 - val_loss: 0.9814 - val_accuracy: 0.6189\n",
      "\n",
      "Epoch 00001: val_accuracy improved from -inf to 0.61890, saving model to mymodel2_01.h5\n",
      "Epoch 2/100\n",
      "9/9 [==============================] - 2s 211ms/step - loss: 3.0141 - accuracy: 0.5279 - val_loss: 1.0754 - val_accuracy: 0.5044\n",
      "\n",
      "Epoch 00002: val_accuracy did not improve from 0.61890\n",
      "Epoch 3/100\n",
      "9/9 [==============================] - 2s 204ms/step - loss: 1.1382 - accuracy: 0.7219 - val_loss: 0.4645 - val_accuracy: 0.7502\n",
      "\n",
      "Epoch 00003: val_accuracy improved from 0.61890 to 0.75020, saving model to mymodel2_03.h5\n",
      "Epoch 4/100\n",
      "9/9 [==============================] - 2s 213ms/step - loss: 0.6152 - accuracy: 0.7868 - val_loss: 0.3608 - val_accuracy: 0.8167\n",
      "\n",
      "Epoch 00004: val_accuracy improved from 0.75020 to 0.81665, saving model to mymodel2_04.h5\n",
      "Epoch 5/100\n",
      "9/9 [==============================] - 2s 209ms/step - loss: 0.5267 - accuracy: 0.8554 - val_loss: 0.6885 - val_accuracy: 0.5717\n",
      "\n",
      "Epoch 00005: val_accuracy did not improve from 0.81665\n",
      "Epoch 6/100\n",
      "9/9 [==============================] - 2s 206ms/step - loss: 0.3633 - accuracy: 0.8554 - val_loss: 0.4375 - val_accuracy: 0.7638\n",
      "\n",
      "Epoch 00006: val_accuracy did not improve from 0.81665\n",
      "Epoch 7/100\n",
      "9/9 [==============================] - 2s 205ms/step - loss: 0.3239 - accuracy: 0.8984 - val_loss: 0.6872 - val_accuracy: 0.5484\n",
      "\n",
      "Epoch 00007: val_accuracy did not improve from 0.81665\n",
      "Epoch 8/100\n",
      "9/9 [==============================] - 2s 207ms/step - loss: 0.3008 - accuracy: 0.9012 - val_loss: 0.6005 - val_accuracy: 0.5997\n",
      "\n",
      "Epoch 00008: val_accuracy did not improve from 0.81665\n",
      "Epoch 9/100\n",
      "9/9 [==============================] - 2s 204ms/step - loss: 0.2704 - accuracy: 0.9003 - val_loss: 0.5448 - val_accuracy: 0.6829\n",
      "\n",
      "Epoch 00009: val_accuracy did not improve from 0.81665\n",
      "Epoch 10/100\n",
      "9/9 [==============================] - 2s 204ms/step - loss: 0.2609 - accuracy: 0.9158 - val_loss: 0.6260 - val_accuracy: 0.6133\n",
      "\n",
      "Epoch 00010: val_accuracy did not improve from 0.81665\n",
      "Epoch 11/100\n",
      "9/9 [==============================] - 2s 210ms/step - loss: 0.2533 - accuracy: 0.9167 - val_loss: 0.5384 - val_accuracy: 0.6837\n",
      "\n",
      "Epoch 00011: val_accuracy did not improve from 0.81665\n",
      "Epoch 12/100\n",
      "9/9 [==============================] - 2s 205ms/step - loss: 0.2397 - accuracy: 0.9177 - val_loss: 0.5105 - val_accuracy: 0.6837\n",
      "\n",
      "Epoch 00012: val_accuracy did not improve from 0.81665\n",
      "Epoch 13/100\n",
      "9/9 [==============================] - 2s 208ms/step - loss: 0.2323 - accuracy: 0.9341 - val_loss: 0.5005 - val_accuracy: 0.6974\n",
      "\n",
      "Epoch 00013: val_accuracy did not improve from 0.81665\n",
      "Epoch 14/100\n",
      "9/9 [==============================] - 2s 208ms/step - loss: 0.2217 - accuracy: 0.9195 - val_loss: 0.4307 - val_accuracy: 0.7798\n",
      "\n",
      "Epoch 00014: val_accuracy did not improve from 0.81665\n",
      "Epoch 15/100\n",
      "9/9 [==============================] - 2s 214ms/step - loss: 0.2029 - accuracy: 0.9360 - val_loss: 0.3723 - val_accuracy: 0.8078\n",
      "\n",
      "Epoch 00015: val_accuracy did not improve from 0.81665\n",
      "Epoch 16/100\n",
      "9/9 [==============================] - 2s 209ms/step - loss: 0.2116 - accuracy: 0.9305 - val_loss: 0.3914 - val_accuracy: 0.8078\n",
      "\n",
      "Epoch 00016: val_accuracy did not improve from 0.81665\n",
      "Epoch 17/100\n",
      "9/9 [==============================] - 2s 214ms/step - loss: 0.1934 - accuracy: 0.9396 - val_loss: 0.4453 - val_accuracy: 0.7838\n",
      "\n",
      "Epoch 00017: val_accuracy did not improve from 0.81665\n",
      "Epoch 18/100\n",
      "9/9 [==============================] - 2s 213ms/step - loss: 0.2033 - accuracy: 0.9405 - val_loss: 0.4086 - val_accuracy: 0.7966\n",
      "\n",
      "Epoch 00018: val_accuracy did not improve from 0.81665\n",
      "Epoch 19/100\n",
      "9/9 [==============================] - 2s 215ms/step - loss: 0.2050 - accuracy: 0.9277 - val_loss: 0.4159 - val_accuracy: 0.7974\n",
      "\n",
      "Epoch 00019: val_accuracy did not improve from 0.81665\n",
      "Epoch 20/100\n",
      "9/9 [==============================] - 2s 218ms/step - loss: 0.1899 - accuracy: 0.9323 - val_loss: 0.3254 - val_accuracy: 0.8223\n",
      "\n",
      "Epoch 00020: val_accuracy improved from 0.81665 to 0.82226, saving model to mymodel2_20.h5\n",
      "Epoch 21/100\n",
      "9/9 [==============================] - 2s 220ms/step - loss: 0.1964 - accuracy: 0.9341 - val_loss: 0.2578 - val_accuracy: 0.9031\n",
      "\n",
      "Epoch 00021: val_accuracy improved from 0.82226 to 0.90312, saving model to mymodel2_21.h5\n",
      "Epoch 22/100\n",
      "9/9 [==============================] - 2s 221ms/step - loss: 0.1961 - accuracy: 0.9323 - val_loss: 0.2819 - val_accuracy: 0.8815\n",
      "\n",
      "Epoch 00022: val_accuracy did not improve from 0.90312\n",
      "Epoch 23/100\n",
      "9/9 [==============================] - 2s 216ms/step - loss: 0.1824 - accuracy: 0.9378 - val_loss: 0.3733 - val_accuracy: 0.8118\n",
      "\n",
      "Epoch 00023: val_accuracy did not improve from 0.90312\n",
      "Epoch 24/100\n",
      "9/9 [==============================] - 2s 219ms/step - loss: 0.1806 - accuracy: 0.9424 - val_loss: 0.3343 - val_accuracy: 0.8255\n",
      "\n",
      "Epoch 00024: val_accuracy did not improve from 0.90312\n",
      "Epoch 25/100\n",
      "9/9 [==============================] - 2s 208ms/step - loss: 0.1988 - accuracy: 0.9286 - val_loss: 0.2285 - val_accuracy: 0.9191\n",
      "\n",
      "Epoch 00025: val_accuracy improved from 0.90312 to 0.91914, saving model to mymodel2_25.h5\n",
      "Epoch 26/100\n",
      "9/9 [==============================] - 2s 210ms/step - loss: 0.1809 - accuracy: 0.9332 - val_loss: 0.2334 - val_accuracy: 0.9191\n",
      "\n",
      "Epoch 00026: val_accuracy did not improve from 0.91914\n",
      "Epoch 27/100\n",
      "9/9 [==============================] - 2s 212ms/step - loss: 0.1966 - accuracy: 0.9387 - val_loss: 0.3088 - val_accuracy: 0.8247\n",
      "\n",
      "Epoch 00027: val_accuracy did not improve from 0.91914\n",
      "Epoch 28/100\n",
      "9/9 [==============================] - 2s 210ms/step - loss: 0.1776 - accuracy: 0.9460 - val_loss: 0.3552 - val_accuracy: 0.8127\n",
      "\n",
      "Epoch 00028: val_accuracy did not improve from 0.91914\n",
      "Epoch 29/100\n",
      "9/9 [==============================] - 2s 215ms/step - loss: 0.1805 - accuracy: 0.9387 - val_loss: 0.2394 - val_accuracy: 0.8927\n",
      "\n",
      "Epoch 00029: val_accuracy did not improve from 0.91914\n",
      "Epoch 30/100\n",
      "9/9 [==============================] - 2s 211ms/step - loss: 0.1655 - accuracy: 0.9378 - val_loss: 0.2576 - val_accuracy: 0.8839\n",
      "\n",
      "Epoch 00030: val_accuracy did not improve from 0.91914\n",
      "Epoch 31/100\n",
      "9/9 [==============================] - 2s 206ms/step - loss: 0.1582 - accuracy: 0.9460 - val_loss: 0.2668 - val_accuracy: 0.8711\n",
      "\n",
      "Epoch 00031: val_accuracy did not improve from 0.91914\n",
      "Epoch 32/100\n",
      "9/9 [==============================] - 2s 205ms/step - loss: 0.1549 - accuracy: 0.9433 - val_loss: 0.2677 - val_accuracy: 0.8607\n",
      "\n",
      "Epoch 00032: val_accuracy did not improve from 0.91914\n",
      "Epoch 33/100\n",
      "9/9 [==============================] - 2s 204ms/step - loss: 0.1538 - accuracy: 0.9488 - val_loss: 0.2506 - val_accuracy: 0.8703\n",
      "\n",
      "Epoch 00033: val_accuracy did not improve from 0.91914\n",
      "Epoch 34/100\n",
      "9/9 [==============================] - 2s 204ms/step - loss: 0.1591 - accuracy: 0.9414 - val_loss: 0.2394 - val_accuracy: 0.8919\n",
      "\n",
      "Epoch 00034: val_accuracy did not improve from 0.91914\n",
      "Epoch 35/100\n",
      "9/9 [==============================] - 2s 204ms/step - loss: 0.1611 - accuracy: 0.9387 - val_loss: 0.2824 - val_accuracy: 0.8455\n",
      "\n",
      "Epoch 00035: val_accuracy did not improve from 0.91914\n",
      "Epoch 36/100\n",
      "9/9 [==============================] - 2s 206ms/step - loss: 0.1400 - accuracy: 0.9515 - val_loss: 0.2518 - val_accuracy: 0.8703\n",
      "\n",
      "Epoch 00036: val_accuracy did not improve from 0.91914\n",
      "Epoch 37/100\n",
      "9/9 [==============================] - 2s 211ms/step - loss: 0.1494 - accuracy: 0.9515 - val_loss: 0.2542 - val_accuracy: 0.8703\n",
      "\n",
      "Epoch 00037: val_accuracy did not improve from 0.91914\n",
      "Epoch 38/100\n",
      "9/9 [==============================] - 2s 203ms/step - loss: 0.1500 - accuracy: 0.9442 - val_loss: 0.2539 - val_accuracy: 0.8687\n",
      "\n",
      "Epoch 00038: val_accuracy did not improve from 0.91914\n",
      "Epoch 39/100\n",
      "9/9 [==============================] - 2s 209ms/step - loss: 0.1413 - accuracy: 0.9515 - val_loss: 0.2663 - val_accuracy: 0.8471\n",
      "\n",
      "Epoch 00039: val_accuracy did not improve from 0.91914\n",
      "Epoch 40/100\n",
      "9/9 [==============================] - 2s 205ms/step - loss: 0.1493 - accuracy: 0.9460 - val_loss: 0.2872 - val_accuracy: 0.8231\n",
      "\n",
      "Epoch 00040: val_accuracy did not improve from 0.91914\n",
      "Epoch 41/100\n",
      "9/9 [==============================] - 2s 205ms/step - loss: 0.1382 - accuracy: 0.9488 - val_loss: 0.2612 - val_accuracy: 0.8303\n",
      "\n",
      "Epoch 00041: val_accuracy did not improve from 0.91914\n",
      "Epoch 42/100\n",
      "9/9 [==============================] - 2s 203ms/step - loss: 0.1353 - accuracy: 0.9524 - val_loss: 0.2658 - val_accuracy: 0.8487\n",
      "\n",
      "Epoch 00042: val_accuracy did not improve from 0.91914\n",
      "Epoch 43/100\n",
      "9/9 [==============================] - 2s 205ms/step - loss: 0.1406 - accuracy: 0.9506 - val_loss: 0.2368 - val_accuracy: 0.8687\n",
      "\n",
      "Epoch 00043: val_accuracy did not improve from 0.91914\n",
      "Epoch 44/100\n",
      "9/9 [==============================] - 2s 206ms/step - loss: 0.1306 - accuracy: 0.9543 - val_loss: 0.2331 - val_accuracy: 0.8703\n",
      "\n",
      "Epoch 00044: val_accuracy did not improve from 0.91914\n",
      "Epoch 45/100\n",
      "9/9 [==============================] - 2s 206ms/step - loss: 0.1571 - accuracy: 0.9414 - val_loss: 0.2046 - val_accuracy: 0.9271\n",
      "\n",
      "Epoch 00045: val_accuracy improved from 0.91914 to 0.92714, saving model to mymodel2_45.h5\n",
      "Epoch 46/100\n",
      "9/9 [==============================] - 2s 209ms/step - loss: 0.1236 - accuracy: 0.9588 - val_loss: 0.2253 - val_accuracy: 0.8703\n",
      "\n",
      "Epoch 00046: val_accuracy did not improve from 0.92714\n",
      "Epoch 47/100\n",
      "9/9 [==============================] - 2s 204ms/step - loss: 0.1283 - accuracy: 0.9488 - val_loss: 0.2431 - val_accuracy: 0.8495\n",
      "\n",
      "Epoch 00047: val_accuracy did not improve from 0.92714\n",
      "Epoch 48/100\n",
      "9/9 [==============================] - 2s 209ms/step - loss: 0.1164 - accuracy: 0.9552 - val_loss: 0.3799 - val_accuracy: 0.7750\n",
      "\n",
      "Epoch 00048: val_accuracy did not improve from 0.92714\n",
      "Epoch 49/100\n",
      "9/9 [==============================] - 2s 205ms/step - loss: 0.1278 - accuracy: 0.9543 - val_loss: 0.2561 - val_accuracy: 0.8511\n",
      "\n",
      "Epoch 00049: val_accuracy did not improve from 0.92714\n",
      "Epoch 50/100\n",
      "9/9 [==============================] - 2s 206ms/step - loss: 0.1086 - accuracy: 0.9616 - val_loss: 0.3415 - val_accuracy: 0.8038\n",
      "\n",
      "Epoch 00050: val_accuracy did not improve from 0.92714\n",
      "Epoch 51/100\n",
      "9/9 [==============================] - 2s 204ms/step - loss: 0.1271 - accuracy: 0.9497 - val_loss: 0.2431 - val_accuracy: 0.8495\n",
      "\n",
      "Epoch 00051: val_accuracy did not improve from 0.92714\n",
      "Epoch 52/100\n",
      "9/9 [==============================] - 2s 205ms/step - loss: 0.1189 - accuracy: 0.9497 - val_loss: 0.2295 - val_accuracy: 0.8631\n",
      "\n",
      "Epoch 00052: val_accuracy did not improve from 0.92714\n",
      "Epoch 53/100\n",
      "9/9 [==============================] - 2s 203ms/step - loss: 0.1173 - accuracy: 0.9533 - val_loss: 0.2472 - val_accuracy: 0.8511\n",
      "\n",
      "Epoch 00053: val_accuracy did not improve from 0.92714\n",
      "Epoch 54/100\n",
      "9/9 [==============================] - 2s 204ms/step - loss: 0.1135 - accuracy: 0.9570 - val_loss: 0.2585 - val_accuracy: 0.8511\n",
      "\n",
      "Epoch 00054: val_accuracy did not improve from 0.92714\n",
      "Epoch 55/100\n",
      "9/9 [==============================] - 2s 205ms/step - loss: 0.1157 - accuracy: 0.9570 - val_loss: 0.3206 - val_accuracy: 0.7966\n",
      "\n",
      "Epoch 00055: val_accuracy did not improve from 0.92714\n",
      "Epoch 56/100\n",
      "9/9 [==============================] - 2s 207ms/step - loss: 0.1124 - accuracy: 0.9588 - val_loss: 0.3297 - val_accuracy: 0.7974\n",
      "\n",
      "Epoch 00056: val_accuracy did not improve from 0.92714\n",
      "Epoch 57/100\n",
      "9/9 [==============================] - 2s 208ms/step - loss: 0.0984 - accuracy: 0.9625 - val_loss: 0.3492 - val_accuracy: 0.7862\n",
      "\n",
      "Epoch 00057: val_accuracy did not improve from 0.92714\n",
      "Epoch 58/100\n",
      "9/9 [==============================] - 2s 207ms/step - loss: 0.1001 - accuracy: 0.9607 - val_loss: 0.2059 - val_accuracy: 0.9119\n",
      "\n",
      "Epoch 00058: val_accuracy did not improve from 0.92714\n",
      "Epoch 59/100\n",
      "9/9 [==============================] - 2s 204ms/step - loss: 0.1063 - accuracy: 0.9680 - val_loss: 0.2185 - val_accuracy: 0.9239\n",
      "\n",
      "Epoch 00059: val_accuracy did not improve from 0.92714\n",
      "Epoch 60/100\n",
      "9/9 [==============================] - 2s 206ms/step - loss: 0.1042 - accuracy: 0.9597 - val_loss: 0.1889 - val_accuracy: 0.9215\n",
      "\n",
      "Epoch 00060: val_accuracy did not improve from 0.92714\n",
      "Epoch 61/100\n",
      "9/9 [==============================] - 2s 206ms/step - loss: 0.1208 - accuracy: 0.9543 - val_loss: 0.2915 - val_accuracy: 0.8703\n",
      "\n",
      "Epoch 00061: val_accuracy did not improve from 0.92714\n",
      "Epoch 62/100\n",
      "9/9 [==============================] - 2s 207ms/step - loss: 0.1015 - accuracy: 0.9643 - val_loss: 0.3342 - val_accuracy: 0.8006\n",
      "\n",
      "Epoch 00062: val_accuracy did not improve from 0.92714\n",
      "Epoch 63/100\n",
      "9/9 [==============================] - 2s 207ms/step - loss: 0.0965 - accuracy: 0.9689 - val_loss: 0.4180 - val_accuracy: 0.7494\n",
      "\n",
      "Epoch 00063: val_accuracy did not improve from 0.92714\n",
      "Epoch 64/100\n",
      "9/9 [==============================] - 2s 203ms/step - loss: 0.0951 - accuracy: 0.9661 - val_loss: 0.2806 - val_accuracy: 0.8367\n",
      "\n",
      "Epoch 00064: val_accuracy did not improve from 0.92714\n",
      "Epoch 65/100\n",
      "9/9 [==============================] - 2s 206ms/step - loss: 0.0949 - accuracy: 0.9671 - val_loss: 0.3328 - val_accuracy: 0.7862\n",
      "\n",
      "Epoch 00065: val_accuracy did not improve from 0.92714\n",
      "Epoch 66/100\n",
      "9/9 [==============================] - 2s 206ms/step - loss: 0.0942 - accuracy: 0.9680 - val_loss: 0.2423 - val_accuracy: 0.8679\n",
      "\n",
      "Epoch 00066: val_accuracy did not improve from 0.92714\n",
      "Epoch 67/100\n",
      "9/9 [==============================] - 2s 205ms/step - loss: 0.0851 - accuracy: 0.9698 - val_loss: 0.2877 - val_accuracy: 0.8110\n",
      "\n",
      "Epoch 00067: val_accuracy did not improve from 0.92714\n",
      "Epoch 68/100\n",
      "9/9 [==============================] - 2s 204ms/step - loss: 0.0842 - accuracy: 0.9661 - val_loss: 0.3746 - val_accuracy: 0.7726\n",
      "\n",
      "Epoch 00068: val_accuracy did not improve from 0.92714\n",
      "Epoch 69/100\n",
      "9/9 [==============================] - 2s 205ms/step - loss: 0.0808 - accuracy: 0.9726 - val_loss: 0.2277 - val_accuracy: 0.8807\n",
      "\n",
      "Epoch 00069: val_accuracy did not improve from 0.92714\n",
      "Epoch 70/100\n",
      "9/9 [==============================] - 2s 205ms/step - loss: 0.0785 - accuracy: 0.9744 - val_loss: 0.3674 - val_accuracy: 0.7614\n",
      "\n",
      "Epoch 00070: val_accuracy did not improve from 0.92714\n",
      "Epoch 71/100\n",
      "9/9 [==============================] - 2s 209ms/step - loss: 0.0990 - accuracy: 0.9634 - val_loss: 0.2828 - val_accuracy: 0.8415\n",
      "\n",
      "Epoch 00071: val_accuracy did not improve from 0.92714\n",
      "Epoch 72/100\n",
      "9/9 [==============================] - 2s 203ms/step - loss: 0.0903 - accuracy: 0.9726 - val_loss: 0.2590 - val_accuracy: 0.8799\n",
      "\n",
      "Epoch 00072: val_accuracy did not improve from 0.92714\n",
      "Epoch 73/100\n",
      "9/9 [==============================] - 2s 206ms/step - loss: 0.0796 - accuracy: 0.9735 - val_loss: 0.1699 - val_accuracy: 0.9263\n",
      "\n",
      "Epoch 00073: val_accuracy did not improve from 0.92714\n",
      "Epoch 74/100\n",
      "9/9 [==============================] - 2s 206ms/step - loss: 0.0938 - accuracy: 0.9671 - val_loss: 0.1606 - val_accuracy: 0.9247\n",
      "\n",
      "Epoch 00074: val_accuracy did not improve from 0.92714\n",
      "Epoch 75/100\n",
      "9/9 [==============================] - 2s 206ms/step - loss: 0.0878 - accuracy: 0.9680 - val_loss: 0.3260 - val_accuracy: 0.8263\n",
      "\n",
      "Epoch 00075: val_accuracy did not improve from 0.92714\n",
      "Epoch 76/100\n",
      "9/9 [==============================] - 2s 205ms/step - loss: 0.0776 - accuracy: 0.9780 - val_loss: 0.3514 - val_accuracy: 0.7982\n",
      "\n",
      "Epoch 00076: val_accuracy did not improve from 0.92714\n",
      "Epoch 77/100\n",
      "9/9 [==============================] - 2s 204ms/step - loss: 0.0868 - accuracy: 0.9726 - val_loss: 0.3051 - val_accuracy: 0.8102\n",
      "\n",
      "Epoch 00077: val_accuracy did not improve from 0.92714\n",
      "Epoch 78/100\n",
      "9/9 [==============================] - 2s 206ms/step - loss: 0.0742 - accuracy: 0.9762 - val_loss: 0.3534 - val_accuracy: 0.8143\n",
      "\n",
      "Epoch 00078: val_accuracy did not improve from 0.92714\n",
      "Epoch 79/100\n",
      "9/9 [==============================] - 2s 206ms/step - loss: 0.0873 - accuracy: 0.9643 - val_loss: 0.2252 - val_accuracy: 0.9087\n",
      "\n",
      "Epoch 00079: val_accuracy did not improve from 0.92714\n",
      "Epoch 80/100\n",
      "9/9 [==============================] - 2s 206ms/step - loss: 0.0764 - accuracy: 0.9771 - val_loss: 0.2604 - val_accuracy: 0.8487\n",
      "\n",
      "Epoch 00080: val_accuracy did not improve from 0.92714\n",
      "Epoch 81/100\n",
      "9/9 [==============================] - 2s 206ms/step - loss: 0.0758 - accuracy: 0.9735 - val_loss: 0.3017 - val_accuracy: 0.8383\n",
      "\n",
      "Epoch 00081: val_accuracy did not improve from 0.92714\n",
      "Epoch 82/100\n",
      "9/9 [==============================] - 2s 206ms/step - loss: 0.0833 - accuracy: 0.9661 - val_loss: 0.3007 - val_accuracy: 0.8383\n",
      "\n",
      "Epoch 00082: val_accuracy did not improve from 0.92714\n",
      "Epoch 83/100\n",
      "9/9 [==============================] - 2s 206ms/step - loss: 0.0810 - accuracy: 0.9726 - val_loss: 0.3934 - val_accuracy: 0.7998\n",
      "\n",
      "Epoch 00083: val_accuracy did not improve from 0.92714\n",
      "Epoch 84/100\n",
      "9/9 [==============================] - 2s 207ms/step - loss: 0.0704 - accuracy: 0.9753 - val_loss: 0.2238 - val_accuracy: 0.8647\n",
      "\n",
      "Epoch 00084: val_accuracy did not improve from 0.92714\n",
      "Epoch 85/100\n",
      "9/9 [==============================] - 2s 206ms/step - loss: 0.0740 - accuracy: 0.9771 - val_loss: 0.2725 - val_accuracy: 0.8351\n",
      "\n",
      "Epoch 00085: val_accuracy did not improve from 0.92714\n",
      "Epoch 86/100\n",
      "9/9 [==============================] - 2s 205ms/step - loss: 0.0739 - accuracy: 0.9780 - val_loss: 0.2719 - val_accuracy: 0.8383\n",
      "\n",
      "Epoch 00086: val_accuracy did not improve from 0.92714\n",
      "Epoch 87/100\n",
      "9/9 [==============================] - 2s 204ms/step - loss: 0.0697 - accuracy: 0.9808 - val_loss: 0.4554 - val_accuracy: 0.8014\n",
      "\n",
      "Epoch 00087: val_accuracy did not improve from 0.92714\n",
      "Epoch 88/100\n",
      "9/9 [==============================] - 2s 205ms/step - loss: 0.0714 - accuracy: 0.9799 - val_loss: 0.3771 - val_accuracy: 0.8375\n",
      "\n",
      "Epoch 00088: val_accuracy did not improve from 0.92714\n",
      "Epoch 89/100\n",
      "9/9 [==============================] - 2s 205ms/step - loss: 0.0699 - accuracy: 0.9808 - val_loss: 0.3087 - val_accuracy: 0.8375\n",
      "\n",
      "Epoch 00089: val_accuracy did not improve from 0.92714\n",
      "Epoch 90/100\n",
      "9/9 [==============================] - 2s 205ms/step - loss: 0.0626 - accuracy: 0.9817 - val_loss: 0.3470 - val_accuracy: 0.8383\n",
      "\n",
      "Epoch 00090: val_accuracy did not improve from 0.92714\n",
      "Epoch 91/100\n",
      "9/9 [==============================] - 2s 206ms/step - loss: 0.0709 - accuracy: 0.9799 - val_loss: 0.3158 - val_accuracy: 0.8239\n",
      "\n",
      "Epoch 00091: val_accuracy did not improve from 0.92714\n",
      "Epoch 92/100\n",
      "9/9 [==============================] - 2s 206ms/step - loss: 0.0626 - accuracy: 0.9780 - val_loss: 0.3656 - val_accuracy: 0.8127\n",
      "\n",
      "Epoch 00092: val_accuracy did not improve from 0.92714\n",
      "Epoch 93/100\n",
      "9/9 [==============================] - 2s 206ms/step - loss: 0.0653 - accuracy: 0.9799 - val_loss: 0.1607 - val_accuracy: 0.9384\n",
      "\n",
      "Epoch 00093: val_accuracy improved from 0.92714 to 0.93835, saving model to mymodel2_93.h5\n",
      "Epoch 94/100\n",
      "9/9 [==============================] - 2s 211ms/step - loss: 0.0678 - accuracy: 0.9790 - val_loss: 0.4208 - val_accuracy: 0.8703\n",
      "\n",
      "Epoch 00094: val_accuracy did not improve from 0.93835\n",
      "Epoch 95/100\n",
      "9/9 [==============================] - 2s 206ms/step - loss: 0.0788 - accuracy: 0.9771 - val_loss: 0.4331 - val_accuracy: 0.8383\n",
      "\n",
      "Epoch 00095: val_accuracy did not improve from 0.93835\n",
      "Epoch 96/100\n",
      "9/9 [==============================] - 2s 203ms/step - loss: 0.0701 - accuracy: 0.9817 - val_loss: 0.2804 - val_accuracy: 0.8535\n",
      "\n",
      "Epoch 00096: val_accuracy did not improve from 0.93835\n",
      "Epoch 97/100\n",
      "9/9 [==============================] - 2s 203ms/step - loss: 0.0719 - accuracy: 0.9780 - val_loss: 0.5607 - val_accuracy: 0.7870\n",
      "\n",
      "Epoch 00097: val_accuracy did not improve from 0.93835\n",
      "Epoch 98/100\n",
      "9/9 [==============================] - 2s 206ms/step - loss: 0.0584 - accuracy: 0.9826 - val_loss: 0.1722 - val_accuracy: 0.9111\n",
      "\n",
      "Epoch 00098: val_accuracy did not improve from 0.93835\n",
      "Epoch 99/100\n",
      "9/9 [==============================] - 2s 203ms/step - loss: 0.0575 - accuracy: 0.9817 - val_loss: 0.2547 - val_accuracy: 0.8495\n",
      "\n",
      "Epoch 00099: val_accuracy did not improve from 0.93835\n",
      "Epoch 100/100\n",
      "9/9 [==============================] - 2s 203ms/step - loss: 0.0656 - accuracy: 0.9835 - val_loss: 0.2410 - val_accuracy: 0.8647\n",
      "\n",
      "Epoch 00100: val_accuracy did not improve from 0.93835\n",
      "Training completed in time:  0:03:07.365808\n"
     ]
    }
   ],
   "source": [
    "# train model\n",
    "num_epochs = 100\n",
    "num_batch_size = 128\n",
    "\n",
    "callbacks = [\n",
    "    ModelCheckpoint(\n",
    "        filepath='mymodel2_{epoch:02d}.h5',\n",
    "        # Path where to save the model\n",
    "        # The two parameters below mean that we will overwrite\n",
    "        # the current checkpoint if and only if\n",
    "        # the `val_accuracy` score has improved.\n",
    "        save_best_only=True,\n",
    "        monitor='val_accuracy',\n",
    "        verbose=1)\n",
    "]\n",
    "start = datetime.now()\n",
    "\n",
    "history = model.fit(x_train, y_train, batch_size=num_batch_size, epochs=num_epochs,\n",
    "          validation_data=(x_test, y_test), callbacks=callbacks, verbose=1)\n",
    "\n",
    "\n",
    "duration = datetime.now() - start\n",
    "print(\"Training completed in time: \", duration)"
   ]
  },
  {
   "cell_type": "code",
   "execution_count": 19,
   "metadata": {},
   "outputs": [
    {
     "data": {
      "image/png": "[encoded data removed]",
      "text/plain": [
       "<Figure size 432x288 with 1 Axes>"
      ]
     },
     "metadata": {
      "needs_background": "light"
     },
     "output_type": "display_data"
    }
   ],
   "source": [
    "metrics = history.history\n",
    "plt.plot(history.epoch, metrics['loss'], metrics['val_loss'])\n",
    "plt.legend(['loss', 'val_loss'])\n",
    "plt.show()"
   ]
  },
  {
   "cell_type": "markdown",
   "metadata": {},
   "source": [
    "## Testing"
   ]
  },
  {
   "cell_type": "code",
   "execution_count": 20,
   "metadata": {},
   "outputs": [
    {
     "name": "stdout",
     "output_type": "stream",
     "text": [
      "Training Accuracy:  0.8645928502082825\n",
      "Testing Accuracy:  0.8646917343139648\n"
     ]
    }
   ],
   "source": [
    "# Evaluating the model on the training and testing set\n",
    "score = model.evaluate(x_train, y_train, verbose=0)\n",
    "print(\"Training Accuracy: \", score[1])\n",
    "\n",
    "score = model.evaluate(x_test, y_test, verbose=0)\n",
    "print(\"Testing Accuracy: \", score[1])"
   ]
  },
  {
   "cell_type": "code",
   "execution_count": 21,
   "metadata": {},
   "outputs": [],
   "source": [
    "preds = model.predict(x_test) # label scores \n",
    "\n",
    "classpreds = np.argmax(preds, axis=1) # predicted classes \n",
    "\n",
    "y_testclass = np.argmax(y_test, axis=1) # true classes\n",
    "\n",
    "n_classes=2 # number of classes"
   ]
  },
  {
   "cell_type": "code",
   "execution_count": 22,
   "metadata": {},
   "outputs": [
    {
     "name": "stdout",
     "output_type": "stream",
     "text": [
      "[[628   5]\n",
      " [164 452]]\n"
     ]
    },
    {
     "data": {
      "image/png": "[encoded data removed]",
      "text/plain": [
       "<Figure size 720x576 with 2 Axes>"
      ]
     },
     "metadata": {
      "needs_background": "light"
     },
     "output_type": "display_data"
    }
   ],
   "source": [
    "\n",
    "\n",
    "print(confusion_matrix(y_testclass, classpreds))\n",
    "\n",
    "confusion_mtx = tf.math.confusion_matrix(y_testclass, classpreds)\n",
    "plt.rcParams.update({'font.size': 22})\n",
    "plt.figure(figsize=(10, 8))\n",
    "sns.heatmap(confusion_mtx,\n",
    "            xticklabels=target_conditions,\n",
    "            yticklabels=target_conditions,\n",
    "            annot=True, fmt='g')\n",
    "plt.xlabel('Prediction')\n",
    "plt.ylabel('Label')\n",
    "plt.show()"
   ]
  },
  {
   "cell_type": "markdown",
   "metadata": {},
   "source": [
    "## Run Inferance"
   ]
  },
  {
   "cell_type": "code",
   "execution_count": 24,
   "metadata": {},
   "outputs": [
    {
     "name": "stdout",
     "output_type": "stream",
     "text": [
      "[[0.61236554 0.38763452]]\n"
     ]
    },
    {
     "data": {
      "text/plain": [
       "<BarContainer object of 2 artists>"
      ]
     },
     "execution_count": 24,
     "metadata": {},
     "output_type": "execute_result"
    },
    {
     "data": {
      "image/png": "[encoded data removed]",
      "text/plain": [
       "<Figure size 432x288 with 1 Axes>"
      ]
     },
     "metadata": {
      "needs_background": "light"
     },
     "output_type": "display_data"
    }
   ],
   "source": [
    "sample_file = '../target_conditions/Healthy_187_1b1_Ll_sc_Meditron_copy_21.wav'\n",
    "sample_ds = []\n",
    "sample_ds.append(extract_features(sample_file))\n",
    "sample_ds = np.array(sample_ds)\n",
    "sample_ds = np.reshape(sample_ds,(*sample_ds.shape,1))\n",
    "# print(sample_ds)\n",
    "prediction = model.predict(sample_ds)\n",
    "print(prediction)\n",
    "plt.bar(target_conditions, tf.nn.softmax(prediction[0]))\n",
    "  # plt.title(f'Predictions for \"{disease_labels[label[0]]}\"')\n",
    "  # plt.show()"
   ]
  }
 ],
 "metadata": {
  "kernelspec": {
   "display_name": "Python 3.9.12 ('tf_gpu')",
   "language": "python",
   "name": "python3"
  },
  "language_info": {
   "codemirror_mode": {
    "name": "ipython",
    "version": 3
   },
   "file_extension": ".py",
   "mimetype": "text/x-python",
   "name": "python",
   "nbconvert_exporter": "python",
   "pygments_lexer": "ipython3",
   "version": "3.9.12"
  },
  "orig_nbformat": 4,
  "vscode": {
   "interpreter": {
    "hash": "916db19cabd89b372e2f3c0202aa027621bfa55fa85e19a294ca610099abf6d9"
   }
  }
 },
 "nbformat": 4,
 "nbformat_minor": 2
}
