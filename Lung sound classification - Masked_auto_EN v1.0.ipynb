{
 "cells": [
  {
   "cell_type": "code",
   "execution_count": 20,
   "metadata": {},
   "outputs": [],
   "source": [
    "#pytorch related imports\n",
    "import torch\n",
    "import torch.nn as nn\n",
    "import torch.nn.functional as F\n",
    "from torch.utils.data import TensorDataset, DataLoader, random_split,Dataset"
   ]
  },
  {
   "cell_type": "code",
   "execution_count": null,
   "metadata": {},
   "outputs": [],
   "source": []
  },
  {
   "cell_type": "code",
   "execution_count": null,
   "metadata": {},
   "outputs": [],
   "source": []
  },
  {
   "cell_type": "code",
   "execution_count": 102,
   "metadata": {},
   "outputs": [],
   "source": [
    "#other imports\n",
    "import pandas as pd\n",
    "import librosa\n",
    "import numpy as np\n",
    "import seaborn as sns\n",
    "import matplotlib.pyplot as plt\n",
    "import os\n",
    "from sklearn import preprocessing"
   ]
  },
  {
   "cell_type": "code",
   "execution_count": 22,
   "metadata": {},
   "outputs": [
    {
     "name": "stdout",
     "output_type": "stream",
     "text": [
      "cuda\n"
     ]
    }
   ],
   "source": [
    "device = torch.device(\"cuda\" if torch.cuda.is_available() else \"cpu\")\n",
    "print(device)"
   ]
  },
  {
   "cell_type": "code",
   "execution_count": 98,
   "metadata": {},
   "outputs": [],
   "source": [
    "dataSetPath = '../Datasets/Dataset1/Respiratory_Sound_Database/Respiratory_Sound_Database'\n"
   ]
  },
  {
   "cell_type": "code",
   "execution_count": 58,
   "metadata": {},
   "outputs": [
    {
     "data": {
      "text/html": [
       "<div>\n",
       "<style scoped>\n",
       "    .dataframe tbody tr th:only-of-type {\n",
       "        vertical-align: middle;\n",
       "    }\n",
       "\n",
       "    .dataframe tbody tr th {\n",
       "        vertical-align: top;\n",
       "    }\n",
       "\n",
       "    .dataframe thead th {\n",
       "        text-align: right;\n",
       "    }\n",
       "</style>\n",
       "<table border=\"1\" class=\"dataframe\">\n",
       "  <thead>\n",
       "    <tr style=\"text-align: right;\">\n",
       "      <th></th>\n",
       "      <th>pid</th>\n",
       "      <th>disease</th>\n",
       "    </tr>\n",
       "  </thead>\n",
       "  <tbody>\n",
       "    <tr>\n",
       "      <th>0</th>\n",
       "      <td>101</td>\n",
       "      <td>URTI</td>\n",
       "    </tr>\n",
       "    <tr>\n",
       "      <th>1</th>\n",
       "      <td>102</td>\n",
       "      <td>Healthy</td>\n",
       "    </tr>\n",
       "    <tr>\n",
       "      <th>2</th>\n",
       "      <td>103</td>\n",
       "      <td>Asthma</td>\n",
       "    </tr>\n",
       "    <tr>\n",
       "      <th>3</th>\n",
       "      <td>104</td>\n",
       "      <td>COPD</td>\n",
       "    </tr>\n",
       "    <tr>\n",
       "      <th>4</th>\n",
       "      <td>105</td>\n",
       "      <td>URTI</td>\n",
       "    </tr>\n",
       "  </tbody>\n",
       "</table>\n",
       "</div>"
      ],
      "text/plain": [
       "   pid  disease\n",
       "0  101     URTI\n",
       "1  102  Healthy\n",
       "2  103   Asthma\n",
       "3  104     COPD\n",
       "4  105     URTI"
      ]
     },
     "execution_count": 58,
     "metadata": {},
     "output_type": "execute_result"
    }
   ],
   "source": [
    "patient_data=pd.read_csv(dataSetPath+ \"/patient_diagnosis.csv\",names=['pid','disease'])\n",
    "patient_data.head()\n",
    "\n"
   ]
  },
  {
   "cell_type": "code",
   "execution_count": 86,
   "metadata": {},
   "outputs": [
    {
     "name": "stdout",
     "output_type": "stream",
     "text": [
      "COPD\n"
     ]
    }
   ],
   "source": []
  },
  {
   "cell_type": "code",
   "execution_count": 25,
   "metadata": {},
   "outputs": [
    {
     "name": "stderr",
     "output_type": "stream",
     "text": [
      "e:\\conda\\envs\\pyt\\lib\\site-packages\\seaborn\\_decorators.py:36: FutureWarning: Pass the following variable as a keyword arg: x. From version 0.12, the only valid positional argument will be `data`, and passing other arguments without an explicit keyword will result in an error or misinterpretation.\n",
      "  warnings.warn(\n"
     ]
    },
    {
     "data": {
      "text/plain": [
       "(array([0, 1, 2, 3, 4, 5, 6, 7]),\n",
       " [Text(0, 0, 'URTI'),\n",
       "  Text(1, 0, 'Healthy'),\n",
       "  Text(2, 0, 'Asthma'),\n",
       "  Text(3, 0, 'COPD'),\n",
       "  Text(4, 0, 'LRTI'),\n",
       "  Text(5, 0, 'Bronchiectasis'),\n",
       "  Text(6, 0, 'Pneumonia'),\n",
       "  Text(7, 0, 'Bronchiolitis')])"
      ]
     },
     "execution_count": 25,
     "metadata": {},
     "output_type": "execute_result"
    },
    {
     "data": {
      "image/png": "[encoded data removed]",
      "text/plain": [
       "<Figure size 432x288 with 1 Axes>"
      ]
     },
     "metadata": {
      "needs_background": "light"
     },
     "output_type": "display_data"
    }
   ],
   "source": [
    "sns.countplot(patient_data.disease)\n",
    "plt.xticks(rotation=90)"
   ]
  },
  {
   "cell_type": "code",
   "execution_count": 137,
   "metadata": {},
   "outputs": [
    {
     "name": "stdout",
     "output_type": "stream",
     "text": [
      "[[1 0 0 0 0 0 0 0]\n",
      " [0 0 0 1 0 0 0 0]\n",
      " [0 1 0 0 0 0 0 0]\n",
      " [0 0 0 0 0 0 1 0]\n",
      " [0 0 0 0 0 0 0 1]\n",
      " [0 0 0 0 1 0 0 0]\n",
      " [0 0 1 0 0 0 0 0]\n",
      " [0 0 0 0 0 1 0 0]]\n",
      "[[0 0 0 1 0 0 0 0]]\n"
     ]
    }
   ],
   "source": [
    "#Label Encorder\n",
    "\n",
    "from numpy import array\n",
    "from numpy import argmax\n",
    "disease_labels = array([\"Asthma\",\"COPD\",\"Bronchiectasis\",\"Pneumonia\",\"URTI\",\"Healthy\",\"Bronchiolitis\",\"LRTI\"])\n",
    "\n",
    "le = preprocessing.LabelBinarizer()\n",
    "# i_labels = le.fit_transform(disease_labels)\n",
    "# oneHotLabels = to_categorical(i_labels)\n",
    "# # print(oneHotLabels[:10])\n",
    "encodedLabels = le.fit_transform(disease_labels)\n",
    "# features = np.reshape(features,(*features.shape,1))\n",
    "\n",
    "\n",
    "\n",
    "print(encodedLabels)\n",
    "\n",
    "\n",
    "print(le.transform ([\"COPD\"]))\n",
    "\n",
    "\n",
    "\n"
   ]
  },
  {
   "cell_type": "code",
   "execution_count": 141,
   "metadata": {},
   "outputs": [
    {
     "ename": "AxisError",
     "evalue": "axis 1 is out of bounds for array of dimension 1",
     "output_type": "error",
     "traceback": [
      "\u001b[1;31m---------------------------------------------------------------------------\u001b[0m",
      "\u001b[1;31mAxisError\u001b[0m                                 Traceback (most recent call last)",
      "\u001b[1;32me:\\MSC\\NN\\SmartStethoscope\\Lung sound classification - Masked_auto_EN v1.0.ipynb Cell 11\u001b[0m in \u001b[0;36m<cell line: 3>\u001b[1;34m()\u001b[0m\n\u001b[0;32m      <a href='vscode-notebook-cell:/e%3A/MSC/NN/SmartStethoscope/Lung%20sound%20classification%20-%20Masked_auto_EN%20v1.0.ipynb#X21sZmlsZQ%3D%3D?line=0'>1</a>\u001b[0m ex \u001b[39m=\u001b[39m np\u001b[39m.\u001b[39marray([\u001b[39m1\u001b[39m,\u001b[39m0\u001b[39m,\u001b[39m0\u001b[39m,\u001b[39m0\u001b[39m,\u001b[39m0\u001b[39m,\u001b[39m0\u001b[39m,\u001b[39m0\u001b[39m,\u001b[39m0\u001b[39m])\n\u001b[0;32m      <a href='vscode-notebook-cell:/e%3A/MSC/NN/SmartStethoscope/Lung%20sound%20classification%20-%20Masked_auto_EN%20v1.0.ipynb#X21sZmlsZQ%3D%3D?line=1'>2</a>\u001b[0m yx \u001b[39m=\u001b[39m np\u001b[39m.\u001b[39margmax(ex, axis\u001b[39m=\u001b[39m\u001b[39m0\u001b[39m)\n\u001b[1;32m----> <a href='vscode-notebook-cell:/e%3A/MSC/NN/SmartStethoscope/Lung%20sound%20classification%20-%20Masked_auto_EN%20v1.0.ipynb#X21sZmlsZQ%3D%3D?line=2'>3</a>\u001b[0m \u001b[39mprint\u001b[39m(le\u001b[39m.\u001b[39;49minverse_transform(yx))\n",
      "File \u001b[1;32me:\\conda\\envs\\pyt\\lib\\site-packages\\sklearn\\preprocessing\\_label.py:399\u001b[0m, in \u001b[0;36mLabelBinarizer.inverse_transform\u001b[1;34m(self, Y, threshold)\u001b[0m\n\u001b[0;32m    396\u001b[0m     threshold \u001b[39m=\u001b[39m (\u001b[39mself\u001b[39m\u001b[39m.\u001b[39mpos_label \u001b[39m+\u001b[39m \u001b[39mself\u001b[39m\u001b[39m.\u001b[39mneg_label) \u001b[39m/\u001b[39m \u001b[39m2.0\u001b[39m\n\u001b[0;32m    398\u001b[0m \u001b[39mif\u001b[39;00m \u001b[39mself\u001b[39m\u001b[39m.\u001b[39my_type_ \u001b[39m==\u001b[39m \u001b[39m\"\u001b[39m\u001b[39mmulticlass\u001b[39m\u001b[39m\"\u001b[39m:\n\u001b[1;32m--> 399\u001b[0m     y_inv \u001b[39m=\u001b[39m _inverse_binarize_multiclass(Y, \u001b[39mself\u001b[39;49m\u001b[39m.\u001b[39;49mclasses_)\n\u001b[0;32m    400\u001b[0m \u001b[39melse\u001b[39;00m:\n\u001b[0;32m    401\u001b[0m     y_inv \u001b[39m=\u001b[39m _inverse_binarize_thresholding(\n\u001b[0;32m    402\u001b[0m         Y, \u001b[39mself\u001b[39m\u001b[39m.\u001b[39my_type_, \u001b[39mself\u001b[39m\u001b[39m.\u001b[39mclasses_, threshold\n\u001b[0;32m    403\u001b[0m     )\n",
      "File \u001b[1;32me:\\conda\\envs\\pyt\\lib\\site-packages\\sklearn\\preprocessing\\_label.py:627\u001b[0m, in \u001b[0;36m_inverse_binarize_multiclass\u001b[1;34m(y, classes)\u001b[0m\n\u001b[0;32m    625\u001b[0m     \u001b[39mreturn\u001b[39;00m classes[y_i_argmax]\n\u001b[0;32m    626\u001b[0m \u001b[39melse\u001b[39;00m:\n\u001b[1;32m--> 627\u001b[0m     \u001b[39mreturn\u001b[39;00m classes\u001b[39m.\u001b[39mtake(y\u001b[39m.\u001b[39;49margmax(axis\u001b[39m=\u001b[39;49m\u001b[39m1\u001b[39;49m), mode\u001b[39m=\u001b[39m\u001b[39m\"\u001b[39m\u001b[39mclip\u001b[39m\u001b[39m\"\u001b[39m)\n",
      "\u001b[1;31mAxisError\u001b[0m: axis 1 is out of bounds for array of dimension 1"
     ]
    }
   ],
   "source": [
    "ex = np.array([1,0,0,0,0,0,0,0])\n",
    "yx = np.argmax(ex, axis=0)\n",
    "print(le.inverse_transform(yx))\n"
   ]
  },
  {
   "cell_type": "code",
   "execution_count": 146,
   "metadata": {},
   "outputs": [
    {
     "name": "stdout",
     "output_type": "stream",
     "text": [
      "['Asthma' 'COPD' 'Bronchiectasis' 'Pneumonia' 'URTI' 'Healthy'\n",
      " 'Bronchiolitis' 'LRTI']\n",
      "[0 3 1 6 7 4 2 5]\n",
      "[[1. 0. 0. 0. 0. 0. 0. 0.]\n",
      " [0. 0. 0. 1. 0. 0. 0. 0.]\n",
      " [0. 1. 0. 0. 0. 0. 0. 0.]\n",
      " [0. 0. 0. 0. 0. 0. 1. 0.]\n",
      " [0. 0. 0. 0. 0. 0. 0. 1.]\n",
      " [0. 0. 0. 0. 1. 0. 0. 0.]\n",
      " [0. 0. 1. 0. 0. 0. 0. 0.]\n",
      " [0. 0. 0. 0. 0. 1. 0. 0.]]\n",
      "['URTI']\n",
      "[[0. 0. 0. 0. 1. 0. 0. 0.]]\n"
     ]
    }
   ],
   "source": [
    "from numpy import argmax\n",
    "from sklearn.preprocessing import LabelEncoder\n",
    "from sklearn.preprocessing import OneHotEncoder\n",
    "# define example\n",
    "data = [\"Asthma\",\"COPD\",\"Bronchiectasis\",\"Pneumonia\",\"URTI\",\"Healthy\",\"Bronchiolitis\",\"LRTI\"]\n",
    "values = array(data)\n",
    "\n",
    "# integer encode\n",
    "label_encoder = LabelEncoder()\n",
    "integer_encoded = label_encoder.fit_transform(values)\n",
    "\n",
    "# binary encode\n",
    "onehot_encoder = OneHotEncoder(sparse=False)\n",
    "integer_encoded = integer_encoded.reshape(len(integer_encoded), 1)\n",
    "onehot_encoded = onehot_encoder.fit_transform(integer_encoded)\n",
    "\n",
    "# invert first example\n",
    "inverted = label_encoder.inverse_transform([argmax(onehot_encoded[4])])\n",
    "\n",
    "def EncodeOneHot(x):\n",
    "    return onehot_encoder.transform([label_encoder.transform([x])])\n",
    "\n",
    "def DecodeOneHot(lst =[]):\n",
    "    return label_encoder.inverse_transform([argmax(lst)])"
   ]
  },
  {
   "cell_type": "code",
   "execution_count": 153,
   "metadata": {},
   "outputs": [
    {
     "data": {
      "text/plain": [
       "array([[0., 0., 0., 0., 0., 0., 1., 0.]])"
      ]
     },
     "execution_count": 153,
     "metadata": {},
     "output_type": "execute_result"
    }
   ],
   "source": [
    "EncodeOneHot('Pneumonia')"
   ]
  },
  {
   "cell_type": "code",
   "execution_count": 164,
   "metadata": {},
   "outputs": [
    {
     "data": {
      "text/plain": [
       "array(['Bronchiolitis'], dtype='<U14')"
      ]
     },
     "execution_count": 164,
     "metadata": {},
     "output_type": "execute_result"
    }
   ],
   "source": [
    "l = [0, 0, 1, 0, 0, 0, 0, 0]\n",
    "DecodeOneHot(l)"
   ]
  },
  {
   "cell_type": "code",
   "execution_count": 165,
   "metadata": {},
   "outputs": [],
   "source": [
    "class LungSoundDataSet(Dataset):\n",
    "    def __init__(self,patient_data_labels, data_file_path):\n",
    "        self.patient_data_labels = patient_data_labels\n",
    "        self.data_file_path = data_file_path\n",
    "        self.audioFiles =[]\n",
    "        for file in os.listdir(data_file_path):\n",
    "            if file.endswith('.wav'):\n",
    "                self.audioFiles.append (file)\n",
    "\n",
    "    def __getitem__(self, index):\n",
    "        # get correct label\n",
    "        pid = int(self.audioFiles[index].split('_')[0])             # get pid from file name\n",
    "        labelPd = patient_data[patient_data['pid'] == pid]          # find correct row\n",
    "        label = labelPd.iat[0,1]                                    # extract label\n",
    "        encodedLabel = EncodeOneHot(label)\n",
    "        return self.audioFiles[index],encodedLabel\n",
    "\n",
    "   \n",
    "        \n",
    "    def __len__(self):\n",
    "        return len(self.audioFiles)"
   ]
  },
  {
   "cell_type": "code",
   "execution_count": 166,
   "metadata": {},
   "outputs": [],
   "source": [
    "train_set = LungSoundDataSet(patient_data,dataSetPath + '/audio_and_txt_files')"
   ]
  },
  {
   "cell_type": "code",
   "execution_count": 167,
   "metadata": {},
   "outputs": [
    {
     "name": "stdout",
     "output_type": "stream",
     "text": [
      "920\n"
     ]
    },
    {
     "data": {
      "text/plain": [
       "('101_1b1_Al_sc_Meditron.wav', array([[0., 0., 0., 0., 0., 0., 0., 1.]]))"
      ]
     },
     "execution_count": 167,
     "metadata": {},
     "output_type": "execute_result"
    }
   ],
   "source": [
    "print(len(train_set))\n",
    "train_set.__getitem__(0)"
   ]
  }
 ],
 "metadata": {
  "kernelspec": {
   "display_name": "Python 3.9.12 ('pyt')",
   "language": "python",
   "name": "python3"
  },
  "language_info": {
   "codemirror_mode": {
    "name": "ipython",
    "version": 3
   },
   "file_extension": ".py",
   "mimetype": "text/x-python",
   "name": "python",
   "nbconvert_exporter": "python",
   "pygments_lexer": "ipython3",
   "version": "3.9.12"
  },
  "orig_nbformat": 4,
  "vscode": {
   "interpreter": {
    "hash": "6b487fd5ca4f6b12338e745846c267953b7b260498056ce40dc581c559f477ee"
   }
  }
 },
 "nbformat": 4,
 "nbformat_minor": 2
}
